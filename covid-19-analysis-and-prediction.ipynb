{
 "cells": [
  {
   "cell_type": "markdown",
   "metadata": {
    "id": "d26cb1da"
   },
   "source": [
    "# Covid 19 Analysis and Prediction"
   ]
  },
  {
   "cell_type": "markdown",
   "metadata": {
    "id": "4920ce1e"
   },
   "source": [
    "## Table of Contents\n",
    "\n",
    "* 1. Introduction\n",
    "\n",
    "* 2. Dataset Content\n",
    "\n",
    "* 3. Initial Questions to be Answered\n",
    "\n",
    "* 4. Importing our Libraries and Modules\n",
    "\n",
    "* 5. Data Preparation and Pre-processing\n",
    "     * 5.1 Data Overview\n",
    "     * 5.2 Handling Missing Values\n",
    "    \n",
    "* 6. Exploratory Data Analysis\n",
    "     * 6.1 How many people have died?\n",
    "     * 6.2 And, did they all have the same results?\n",
    "     * 6.3 What is the percentage of Covid carriers among those dead patients?\n",
    "     * 6.4 What about the percentage of Covid carriers among all the patients?\n",
    "     * 6.5 What is the percentage of death among those carriers?\n",
    "     * 6.6 Is it true that age has some impact?\n",
    "     * 6.7 Does obesity has an impact?\n",
    "     * 6.8 Does gender has any impact?\n",
    "     * 6.9 Does pregnancy has any impact?\n",
    "     * 6.10 Do other diseases affect the patient classification?\n",
    "     * 6.11 How many patients were hospitalized?\n",
    "     * 6.12 How many of them (hospitalized people) have died?\n",
    "     * 6.13 How many of the dead patients were hospitalized?\n",
    "     * 6.14 How many of those hospitalized patients had been admitted to the ICU?\n",
    "     * 6.15 How many of those hospitalized patients had been admitted to the ICU?\n",
    "     * 6.16 How many of those ICU patients have died?\n",
    "     * 6.17 What is the death trend with respect to time?\n",
    "   \n",
    "* 7. Modeling and Results\n",
    "     * 7.1 Feature Selection\n",
    "         * 7.1.1 Data Splitting\n",
    "         * 7.1.2 Checking for Correlated Features\n",
    "     * 7.2 Checking Data for Balance    \n",
    "     * 7.3 Training and Testing\n",
    "         * 7.3.1 Logistic Regression\n",
    "         * 7.3.2 Decision Tree\n",
    "         * 7.3.3 Random Forest\n",
    "         * 7.3.4 Naive Bayes\n",
    "                  \n",
    "* 8. Conclusion"
   ]
  },
  {
   "cell_type": "markdown",
   "metadata": {
    "id": "19e4fdec"
   },
   "source": [
    "# Introduction\n",
    "\n",
    "Coronavirus disease (COVID-19) is an infectious disease caused by a newly discovered coronavirus. Most people infected with COVID-19 virus will experience mild to moderate respiratory illness and recover without requiring special treatment. Older people, and those with underlying medical problems like cardiovascular disease, diabetes, chronic respiratory disease, and cancer are more likely to develop serious illness.\n",
    "During the entire course of the pandemic, one of the main problems that healthcare providers have faced is the shortage of medical resources and a proper plan to efficiently distribute them. In these tough times, being able to predict what kind of resource an individual might require at the time of being tested positive or even before that will be of immense help to the authorities as they would be able to procure and arrange for the resources necessary to save the life of that patient.\n",
    "\n",
    "The main goal of this project is to build a machine learning model that, given a Covid-19 patient's current symptom, status, and medical history, will predict whether the patient is at high risk or not."
   ]
  },
  {
   "cell_type": "markdown",
   "metadata": {
    "id": "262cd5fc"
   },
   "source": [
    "# Dataset Content\n",
    "The dataset is obtained from Kaggle at the following link:\n",
    "https://www.kaggle.com/datasets/meirnizri/covid19-dataset, and was provided by the Mexican government, which can be found at this link:\n",
    "https://datos.gob.mx/busca/dataset/informacion-referente-a-casos-covid-19-en-mexico\n",
    "\n",
    "\n",
    "\n",
    "This dataset contains an enormous number of anonymized patient-related information including pre-conditions. The raw dataset consists of 21 unique features and 1,048,576 unique patients. In the Boolean features, **1 means \"yes\" and 2 means \"no\". values as 97 and 99 are missing data**.\n",
    "<br>\n",
    "<br>\n",
    "The features can be explained as follows:\n",
    "<br>\n",
    "* **sex**: 1 for female and 2 for male.\n",
    "<br>\n",
    "* **age**: of the patient.\n",
    "<br>\n",
    "* **classification**: covid test findings. Values 1-3 mean that the patient was diagnosed with covid in different degrees. 4 or higher means that the patient is not a carrier of covid or that the test is inconclusive.\n",
    "<br>\n",
    "* **patient type**: type of care the patient received in the unit. 1 for returned home and 2 for hospitalization.\n",
    "<br>\n",
    "* **pneumonia**: whether the patient already have air sacs inflammation or not.\n",
    "<br>\n",
    "* **pregnancy**: whether the patient is pregnant or not.\n",
    "<br>\n",
    "* **diabetes**: whether the patient has diabetes or not.\n",
    "<br>\n",
    "* **copd**: Indicates whether the patient has Chronic obstructive pulmonary disease or not.\n",
    "<br>\n",
    "* **asthma**: whether the patient has asthma or not.\n",
    "<br>\n",
    "* **inmsupr**: whether the patient is immunosuppressed or not.\n",
    "<br>\n",
    "* **hypertension**: whether the patient has hypertension or not.\n",
    "<br>\n",
    "* **cardiovascular**: whether the patient has heart or blood vessels related disease.\n",
    "<br>\n",
    "* **renal chronic**: whether the patient has chronic renal disease or not.\n",
    "<br>\n",
    "* **other disease**: whether the patient has other disease or not.\n",
    "<br>\n",
    "* **obesity**: whether the patient is obese or not.\n",
    "<br>\n",
    "* **tobacco**: whether the patient is a tobacco user.\n",
    "<br>\n",
    "* **usmr** Indicates whether the patient treated medical units of the first, second or third level.\n",
    "<br>\n",
    "* **medical unit**: type of institution of the National Health System that provided the care.\n",
    "<br>\n",
    "* **intubed**: whether the patient was connected to the ventilator.\n",
    "<br>\n",
    "* **icu**: Indicates whether the patient had been admitted to an Intensive Care Unit.\n",
    "<br>\n",
    "* **date died**: If the patient died indicate the date of death, and 9999-99-99 otherwise."
   ]
  },
  {
   "cell_type": "markdown",
   "metadata": {
    "id": "ddd2432b"
   },
   "source": [
    "-------------"
   ]
  },
  {
   "cell_type": "markdown",
   "metadata": {
    "id": "8b810057"
   },
   "source": [
    "# Initial Questions to be Answered:\n",
    "\n",
    "### 1-  How many people have died?\n",
    "### 2-  And, did they all have the same results?\n",
    "### 3-  Is it true that age has some impact?\n",
    "### 4-  Does Obesity have any impact\n",
    "### 5-  Does gender have any impact?\n",
    "### 6-  How do other diseases affect the patient classification?\n",
    "### 7-  How many patients were diagnosed with Covid 19 of 1st, 2nd, or 3rd degrees?\n",
    "### 8-  How many of them have died?\n",
    "### 9-  How many patients were hospitalized?\n",
    "### 10-  How many of them have died?\n",
    "### 11-  How many patients had been admitted to an Intensive Care Unit?\n",
    "### 12-  How many of them have died?\n",
    "<br>\n",
    "<br>\n",
    "\n",
    "### More questions to come as we progress through our analysis :D"
   ]
  },
  {
   "cell_type": "markdown",
   "metadata": {
    "id": "fd1640ff"
   },
   "source": [
    "------------------------"
   ]
  },
  {
   "cell_type": "markdown",
   "metadata": {
    "id": "8b8d068b"
   },
   "source": [
    "# Importing our Libraries and Modules:"
   ]
  },
  {
   "cell_type": "code",
   "execution_count": null,
   "metadata": {
    "id": "3ee0b576"
   },
   "outputs": [],
   "source": [
    "import pandas as pd\n",
    "import numpy as np\n",
    "import seaborn as sns\n",
    "import matplotlib.pyplot as plt\n",
    "from matplotlib.ticker import FormatStrFormatter # To adjust the ticks formatting\n",
    "import warnings\n",
    "warnings.filterwarnings('ignore') # To ignore warning messages\n",
    "from sklearn.model_selection import train_test_split\n",
    "from sklearn.ensemble import RandomForestClassifier\n",
    "from sklearn.linear_model import LogisticRegression\n",
    "from sklearn.tree import DecisionTreeClassifier\n",
    "from xgboost import XGBClassifier\n",
    "from sklearn.svm import SVC\n",
    "from sklearn.neighbors import KNeighborsClassifier\n",
    "from sklearn.naive_bayes import GaussianNB\n",
    "from imblearn.over_sampling import SMOTE\n",
    "from sklearn.metrics import classification_report"
   ]
  },
  {
   "cell_type": "markdown",
   "metadata": {
    "id": "12c1f72d"
   },
   "source": [
    "--------------------------------------------"
   ]
  },
  {
   "cell_type": "markdown",
   "metadata": {
    "id": "b1792d0b"
   },
   "source": [
    "# Data Preparation and Preprocessing"
   ]
  },
  {
   "cell_type": "code",
   "execution_count": null,
   "metadata": {
    "id": "94307a41"
   },
   "outputs": [],
   "source": [
    "# Loading our dataset\n",
    "df = pd.read_csv(\"Covid Data.csv\")"
   ]
  },
  {
   "cell_type": "code",
   "execution_count": null,
   "metadata": {
    "id": "c3dc693f",
    "outputId": "7d85c982-d4c4-45eb-fe39-3ac306e64abe"
   },
   "outputs": [],
   "source": [
    "# Viewing our dataset\n",
    "df"
   ]
  },
  {
   "cell_type": "code",
   "execution_count": null,
   "metadata": {
    "id": "31bc029f",
    "outputId": "5012bd39-aeeb-40c6-8e1c-1c8158b324a1"
   },
   "outputs": [],
   "source": [
    "# Check duplication percentage:\n",
    "(df.duplicated().sum()/df.shape[0])*100"
   ]
  },
  {
   "cell_type": "code",
   "execution_count": null,
   "metadata": {
    "id": "c040ab18",
    "outputId": "794e4de9-533b-4a86-a9a4-1e07e2c63225"
   },
   "outputs": [],
   "source": [
    "df.dtypes"
   ]
  },
  {
   "cell_type": "code",
   "execution_count": null,
   "metadata": {
    "id": "67e7b3e7",
    "outputId": "d8341908-d2fc-4ff9-cf12-ae4738055966"
   },
   "outputs": [],
   "source": [
    "# Check for missing values\n",
    "df.isnull().sum()"
   ]
  },
  {
   "cell_type": "markdown",
   "metadata": {
    "id": "7e5300b6"
   },
   "source": [
    "### But this is not our actual status regarding missing values, let's reveal our true status:"
   ]
  },
  {
   "cell_type": "code",
   "execution_count": null,
   "metadata": {
    "id": "dafd23ef"
   },
   "outputs": [],
   "source": [
    "df_null = df.copy()\n",
    "for i in [97, 98, 99]:\n",
    "   df_null.replace(i , np.nan, inplace = True)"
   ]
  },
  {
   "cell_type": "code",
   "execution_count": null,
   "metadata": {
    "id": "4fdf4495",
    "outputId": "228305ff-3962-4a89-fd86-8116b8c18f06"
   },
   "outputs": [],
   "source": [
    "df_null.isnull().sum()"
   ]
  },
  {
   "cell_type": "code",
   "execution_count": null,
   "metadata": {
    "id": "780aac77",
    "outputId": "96a9af8c-f8ad-4750-9101-5f6540ffad81"
   },
   "outputs": [],
   "source": [
    "sns.heatmap(df_null.isnull())\n",
    "plt.title('Before Handling the Missing Values', color = 'black', fontsize = 15)\n",
    "plt.show()"
   ]
  },
  {
   "cell_type": "code",
   "execution_count": null,
   "metadata": {
    "id": "e4f760cd",
    "outputId": "57a5c236-cce6-4f72-f624-823f29129365"
   },
   "outputs": [],
   "source": [
    "# Check for any strings in the feature \"DATE_DIED\"\n",
    "df['DATE_DIED'][df['DATE_DIED'].apply(lambda x: isinstance(x, str))]"
   ]
  },
  {
   "attachments": {
    "image.png": {
     "image/png": "[encoded data removed]"
    }
   },
   "cell_type": "markdown",
   "metadata": {
    "id": "12c63dc9"
   },
   "source": [
    "The `isinstance()` function returns `True` if the specified object is of the specified type, otherwise `False`.\n",
    "![image.png](attachment:image.png)\n",
    "<br>\n",
    "for example:<br>\n",
    "Check if the number 5 is an integer:\n",
    "`x = isinstance(5, int)`\n",
    "<br>\n",
    "output -----> `True`\n",
    "<br>\n",
    "<br>\n",
    "If the type parameter is a tuple, this function will return True if the object is one of the types in the tuple.<br>\n",
    "for example:<br>\n",
    "`x = isinstance(\"Hello\", (str, float, int, str, list, dict, tuple))` <br>\n",
    "`print(x)`\n",
    "<br>\n",
    "output -----> `True`\n"
   ]
  },
  {
   "cell_type": "markdown",
   "metadata": {
    "id": "37e32c85"
   },
   "source": [
    "#### As predicted Python treats the written dates as strings, so we can leave things as they are for now."
   ]
  },
  {
   "cell_type": "code",
   "execution_count": null,
   "metadata": {
    "id": "08087b56"
   },
   "outputs": [],
   "source": [
    "df['DEAD'] = [0 if i=='9999-99-99' else 1 for i in df.DATE_DIED]"
   ]
  },
  {
   "cell_type": "code",
   "execution_count": null,
   "metadata": {
    "id": "45891db7",
    "outputId": "fe28bad3-051c-4f17-9a12-72cdbf7db7ff"
   },
   "outputs": [],
   "source": [
    "df['DEAD'].value_counts()"
   ]
  },
  {
   "cell_type": "code",
   "execution_count": null,
   "metadata": {
    "id": "75a8dc18"
   },
   "outputs": [],
   "source": [
    "df['DATE_DIED'].replace('9999-99-99', np.nan, inplace = True)"
   ]
  },
  {
   "cell_type": "code",
   "execution_count": null,
   "metadata": {
    "id": "43840b3a",
    "outputId": "63eb202c-13f1-4fb0-c273-53aa956a7d9b"
   },
   "outputs": [],
   "source": [
    "df['DATE_DIED']"
   ]
  },
  {
   "cell_type": "code",
   "execution_count": null,
   "metadata": {
    "id": "10d6f47e"
   },
   "outputs": [],
   "source": [
    "df['DATE_DIED'] =  pd.to_datetime(df['DATE_DIED'])"
   ]
  },
  {
   "cell_type": "code",
   "execution_count": null,
   "metadata": {
    "id": "4365fcda",
    "outputId": "aa3bca5f-1090-447f-b190-bbca570abd5d"
   },
   "outputs": [],
   "source": [
    "df['DATE_DIED']"
   ]
  },
  {
   "cell_type": "code",
   "execution_count": null,
   "metadata": {
    "id": "6ea2befd",
    "outputId": "dc052132-dd8b-4fa8-8a04-ae35a402b469"
   },
   "outputs": [],
   "source": [
    "df['DATE_DIED'].isnull().sum()"
   ]
  },
  {
   "cell_type": "markdown",
   "metadata": {
    "id": "da7e2b1a"
   },
   "source": [
    "### Let's have a general overview of our dataset:"
   ]
  },
  {
   "cell_type": "code",
   "execution_count": null,
   "metadata": {
    "id": "e884ee57",
    "outputId": "747e935f-54d8-4de6-f318-3330398643fb"
   },
   "outputs": [],
   "source": [
    "df.describe().round(3).T.drop('count', axis = 1)"
   ]
  },
  {
   "cell_type": "markdown",
   "metadata": {
    "id": "80b3ba8f"
   },
   "source": [
    "### First, let's deal with our missing data (values of 97, 98 and 99):"
   ]
  },
  {
   "cell_type": "markdown",
   "metadata": {
    "id": "e57d998e"
   },
   "source": [
    "### We can notice that we have major missing values at the following features:\n",
    "#### 1- \"ICU\"\n",
    "#### 2- \"INTUBED\"\n",
    "#### 3- \"PREGNANT\"\n",
    "\n",
    "#### We ignored those of the \"DATE_DIED\" feature; as those values aren't actually missing ;D"
   ]
  },
  {
   "cell_type": "code",
   "execution_count": null,
   "metadata": {
    "id": "56b7e49b",
    "outputId": "05ff9d23-ff4b-4cd1-eeb3-32099167f9d0"
   },
   "outputs": [],
   "source": [
    "df['AGE'][df['AGE'] > 110].value_counts().sum()"
   ]
  },
  {
   "cell_type": "markdown",
   "metadata": {
    "id": "f07c498e"
   },
   "source": [
    "### Obviously these values are 90% most likely to be missing data, but we are going to ignore that (as they are very very few) and assume that these people are \"Centenarians\" with ages greater than 110."
   ]
  },
  {
   "cell_type": "code",
   "execution_count": null,
   "metadata": {
    "id": "e5d24c00",
    "outputId": "4ea34174-0245-4447-d385-1b1b5e13a776"
   },
   "outputs": [],
   "source": [
    "df.SEX.value_counts()"
   ]
  },
  {
   "cell_type": "code",
   "execution_count": null,
   "metadata": {
    "id": "07a1f3ea",
    "outputId": "63b46f46-8c64-4459-ae38-bc9dd8ca03b5",
    "scrolled": true
   },
   "outputs": [],
   "source": [
    "df.SEX.shape"
   ]
  },
  {
   "cell_type": "code",
   "execution_count": null,
   "metadata": {
    "id": "6a636997",
    "outputId": "2c4bf632-7431-48bc-885a-e95a55729a4e"
   },
   "outputs": [],
   "source": [
    "df[(df['SEX'] == 1)].shape"
   ]
  },
  {
   "cell_type": "code",
   "execution_count": null,
   "metadata": {
    "id": "473c8ad9",
    "outputId": "44326e90-58a4-4039-82a6-b7f69ea97c3b"
   },
   "outputs": [],
   "source": [
    "df[(df['SEX'] == 2)].shape"
   ]
  },
  {
   "cell_type": "code",
   "execution_count": null,
   "metadata": {
    "id": "f10f1d8b",
    "outputId": "175311fb-3953-4668-ae6e-a32528bdc286",
    "scrolled": true
   },
   "outputs": [],
   "source": [
    "df[(df['SEX'] == 1)]['PREGNANT'] # Females corresponding values in 'PREGNANT' feature"
   ]
  },
  {
   "cell_type": "code",
   "execution_count": null,
   "metadata": {
    "id": "d1268a1e",
    "outputId": "28ea83fd-9608-4bbf-93ac-cffc829656bb"
   },
   "outputs": [],
   "source": [
    "df[(df['SEX'] == 1)]['PREGNANT'].value_counts()"
   ]
  },
  {
   "cell_type": "code",
   "execution_count": null,
   "metadata": {
    "id": "b68d7cec",
    "outputId": "9a2fe572-69d2-4455-fef2-fbec72185e93"
   },
   "outputs": [],
   "source": [
    "513179+8131+3754"
   ]
  },
  {
   "cell_type": "markdown",
   "metadata": {
    "id": "0d1175be"
   },
   "source": [
    "### Which equals to the no. of all females."
   ]
  },
  {
   "cell_type": "code",
   "execution_count": null,
   "metadata": {
    "id": "98d1efa9",
    "outputId": "1b41b455-5d43-46d3-d790-b5dcde882896",
    "scrolled": true
   },
   "outputs": [],
   "source": [
    "df[(df['SEX'] == 2)]['PREGNANT'] # Males corresponding values in 'PREGNANT' feature"
   ]
  },
  {
   "cell_type": "code",
   "execution_count": null,
   "metadata": {
    "id": "8da13bfb",
    "outputId": "f3d48ade-af91-4269-d32b-21dca690dfd3"
   },
   "outputs": [],
   "source": [
    "df[(df['SEX'] == 2) & (df['PREGNANT'])]['PREGNANT'].value_counts()"
   ]
  },
  {
   "cell_type": "code",
   "execution_count": null,
   "metadata": {
    "id": "84a104fc",
    "outputId": "52d9a9ef-cc90-463d-cd5f-14f9c2ebf883"
   },
   "outputs": [],
   "source": [
    "df['PREGNANT'].value_counts()"
   ]
  },
  {
   "cell_type": "markdown",
   "metadata": {
    "id": "8fdf7675"
   },
   "source": [
    "### As suspected, we noticed that all values of 98 are of the missing values corresponding to the **female** values, while all those of 97 are of the ones corresponding to the **male** values."
   ]
  },
  {
   "cell_type": "markdown",
   "metadata": {
    "id": "0b33da11"
   },
   "source": [
    "### So obviously we can replace all the corresponding values to the male section (97) with (2); since obviously men can't be pregnant ;D."
   ]
  },
  {
   "cell_type": "code",
   "execution_count": null,
   "metadata": {
    "id": "7ba0320b"
   },
   "outputs": [],
   "source": [
    "df['PREGNANT'].replace (97, 2, inplace = True)"
   ]
  },
  {
   "cell_type": "code",
   "execution_count": null,
   "metadata": {
    "id": "1805d10c",
    "outputId": "41880e0f-b42e-4e4d-b918-9c756ca31e71"
   },
   "outputs": [],
   "source": [
    "df['PREGNANT'].value_counts()"
   ]
  },
  {
   "cell_type": "markdown",
   "metadata": {
    "id": "94f8ed92"
   },
   "source": [
    "### Unfortunatley we can't fill or replace the missing values of (98); because we can't tell which of these women were pregnant and which were not, and we can't also predict these values or fill them by random as it will affect our analysis which we are trying to build here based on only true and real life data, but luckily for us those values are very few with a very low impact so we can simply ignore them for now."
   ]
  },
  {
   "cell_type": "code",
   "execution_count": null,
   "metadata": {
    "id": "f388aaf1",
    "outputId": "cd8576e6-699f-4cbc-f60f-adb04695f607"
   },
   "outputs": [],
   "source": [
    "df.ICU.value_counts()"
   ]
  },
  {
   "cell_type": "code",
   "execution_count": null,
   "metadata": {
    "id": "8b62257b",
    "outputId": "c49346a6-516a-4c89-e258-7107c0b97638"
   },
   "outputs": [],
   "source": [
    "for i in [1, 2, 97, 99]:\n",
    "    for j in [1, 2]:\n",
    "        print (f\"At PATIENT_TYPE = {j} and at ICU = {i} the shape will be:\", \"\\n\")\n",
    "        print (df[(df['PATIENT_TYPE'] == j) & (df['ICU'] == i)].shape, \"\\n\",\n",
    "               \"--------------------------------------------------------------------------------\", \"\\n\\n\")"
   ]
  },
  {
   "cell_type": "markdown",
   "metadata": {
    "id": "10c8bb5a"
   },
   "source": [
    "### From the above we can see that the missing values of (97) are all corresponding to the values of PATIENT_TYPE = 1 which is for non hospitalized patients, while those of (99) are the missing values of the hospitalized patients, which again can not be telled or predicted.\n",
    "\n",
    "<br>\n",
    "\n",
    "### So we can replace all the values of (97) with (2); since obviously patients who have never been hospitalized couldn't possibly be admitted to the ICU."
   ]
  },
  {
   "cell_type": "code",
   "execution_count": null,
   "metadata": {
    "id": "2ad9b8fd"
   },
   "outputs": [],
   "source": [
    "df['ICU'].replace (97, 2, inplace = True)"
   ]
  },
  {
   "cell_type": "code",
   "execution_count": null,
   "metadata": {
    "id": "f4ba2c7b",
    "outputId": "0844afae-b997-4a5e-8af1-4451809d0ed7"
   },
   "outputs": [],
   "source": [
    "df.ICU.value_counts()"
   ]
  },
  {
   "cell_type": "code",
   "execution_count": null,
   "metadata": {
    "id": "8bcdb860",
    "outputId": "6df50b98-8a3c-41e5-f2ad-a12f7c0d01cb"
   },
   "outputs": [],
   "source": [
    "df.INTUBED.value_counts()"
   ]
  },
  {
   "cell_type": "code",
   "execution_count": null,
   "metadata": {
    "id": "c83576a1",
    "outputId": "4b1eefdf-71cc-4517-c582-702fcc9d7b3a"
   },
   "outputs": [],
   "source": [
    "for i in [1, 2, 97, 99]:\n",
    "    for j in [1, 2]:\n",
    "        print (f\"At PATIENT_TYPE = {j} and at INTUBED = {i} the shape will be:\", \"\\n\")\n",
    "        print (df[(df['PATIENT_TYPE'] == j) & (df['INTUBED'] == i)].shape, \"\\n\",\n",
    "               \"--------------------------------------------------------------------------------\", \"\\n\\n\")"
   ]
  },
  {
   "cell_type": "markdown",
   "metadata": {
    "id": "a89346fa"
   },
   "source": [
    "### Again and as predicted it's the same as the ICU case.\n",
    "\n",
    "\n",
    "### So we can replace all the values of (97) with (2); since obviously patients who have never been hospitalized couldn't possibly be connected to the ventilator."
   ]
  },
  {
   "cell_type": "code",
   "execution_count": null,
   "metadata": {
    "id": "d154f8bc"
   },
   "outputs": [],
   "source": [
    "df['INTUBED'].replace (97, 2, inplace = True)"
   ]
  },
  {
   "cell_type": "code",
   "execution_count": null,
   "metadata": {
    "id": "32f81c18",
    "outputId": "6fb3f8e9-16e9-42ea-dcae-c56f36e8014a"
   },
   "outputs": [],
   "source": [
    "df.INTUBED.value_counts()"
   ]
  },
  {
   "cell_type": "markdown",
   "metadata": {
    "id": "ba6ee63d"
   },
   "source": [
    "### So, all the rest of these missing values (values of 98 & 99) can't be predicted (at least for now) as they will affect our analysis, which is based on true and actual real life values.\n",
    "\n",
    "### In other words, we can't fill them by random using any filling  (imputation) technique."
   ]
  },
  {
   "cell_type": "code",
   "execution_count": null,
   "metadata": {
    "id": "809e494c"
   },
   "outputs": [],
   "source": [
    "for i in [98, 99]:\n",
    "   df.replace(i , np.nan, inplace = True)"
   ]
  },
  {
   "cell_type": "code",
   "execution_count": null,
   "metadata": {
    "id": "64eac429",
    "outputId": "36dcb453-5880-4bbe-be17-342d9b8774bc"
   },
   "outputs": [],
   "source": [
    "df"
   ]
  },
  {
   "cell_type": "markdown",
   "metadata": {
    "id": "be5f2748"
   },
   "source": [
    "### Let's check now our progress regarding handling those outliers:"
   ]
  },
  {
   "cell_type": "code",
   "execution_count": null,
   "metadata": {
    "id": "479742d8"
   },
   "outputs": [],
   "source": [
    "# First, let's temporarily reverse the step we did on \"DATE_DIED\" feature; as they are not really missing:\n",
    "df_null2 = df.copy()\n",
    "df_null2.DATE_DIED = df_null2.DATE_DIED.fillna(\"9999-99-99\")"
   ]
  },
  {
   "cell_type": "code",
   "execution_count": null,
   "metadata": {
    "id": "02196aec",
    "outputId": "8497da4d-4d30-4a3d-bbf7-40100b518e4e"
   },
   "outputs": [],
   "source": [
    "#Let's check again for our missing values:\n",
    "df_null2.isnull().sum()"
   ]
  },
  {
   "cell_type": "code",
   "execution_count": null,
   "metadata": {
    "id": "7986e7e5",
    "outputId": "27759fe3-1577-458b-a333-a24987fd7be1"
   },
   "outputs": [],
   "source": [
    "sns.heatmap(df_null2.isnull())\n",
    "plt.title('After Handling the Missing Values', color = 'black', fontsize = 15)\n",
    "plt.show()"
   ]
  },
  {
   "cell_type": "markdown",
   "metadata": {
    "id": "c054835b"
   },
   "source": [
    "### Ok, now we can freely drop the rest, but for analysis purposes we will delay this step to the time at which we are done with our analysis."
   ]
  },
  {
   "cell_type": "markdown",
   "metadata": {
    "id": "016676bd"
   },
   "source": [
    "### Now let's check our data again:"
   ]
  },
  {
   "cell_type": "code",
   "execution_count": null,
   "metadata": {
    "id": "f22f6a38",
    "outputId": "48521c0d-14b2-4a5f-adbd-5a98d68ee1e9"
   },
   "outputs": [],
   "source": [
    "df.describe().round(3).T.drop('count', axis = 1)"
   ]
  },
  {
   "cell_type": "markdown",
   "metadata": {
    "id": "4c0ada44"
   },
   "source": [
    "#### As we can see most of the patients tend to not having any of the diseases, with very minimal of deaths."
   ]
  },
  {
   "cell_type": "code",
   "execution_count": null,
   "metadata": {
    "id": "6478452a",
    "outputId": "cdca8d0e-5012-464e-be42-046383590f0b"
   },
   "outputs": [],
   "source": [
    "# Let's have a look on our data's different classes:\n",
    "for i in df.columns:\n",
    "    if(i!='AGE' and i!='DATE_DIED'):\n",
    "        print(i,\" -> \", dict(df[i].value_counts()))"
   ]
  },
  {
   "cell_type": "markdown",
   "metadata": {
    "id": "054d22d4"
   },
   "source": [
    "--------------------------------------------------------------"
   ]
  },
  {
   "cell_type": "markdown",
   "metadata": {
    "id": "9040b87f"
   },
   "source": [
    "# Exploratory Data Analysis"
   ]
  },
  {
   "cell_type": "code",
   "execution_count": null,
   "metadata": {
    "id": "7c17778a",
    "outputId": "f10eb62f-c5af-4aab-a093-4e0039e30a2c"
   },
   "outputs": [],
   "source": [
    "fig, ax = plt.subplots(figsize=(20, 15))\n",
    "mask=np.triu(np.ones_like(df.drop(columns=['DATE_DIED']).corr()))\n",
    "sns.heatmap(df.drop(columns=['DATE_DIED']).corr(), mask = mask, annot = True, cmap = \"Blues\", vmin = -1, vmax = 1)\n",
    "plt.title('Data Correlation', color = 'black', fontsize = 30)\n",
    "plt.show()"
   ]
  },
  {
   "cell_type": "markdown",
   "metadata": {
    "id": "8de0bdbf"
   },
   "source": [
    "#### As colors go darker that indicates positive correlation, and as they go lighter that indicates negative correlation.\n",
    "\n",
    "#### Also as the darkness or the lightness increases that indicates the increasing of the strength of the corresponding correlation."
   ]
  },
  {
   "cell_type": "code",
   "execution_count": null,
   "metadata": {
    "id": "ec9dc18b",
    "outputId": "df482465-1764-4fb0-aa0c-1aa4bf3b1287"
   },
   "outputs": [],
   "source": [
    "# Let's first create a new DataFrame for medical conditions only:\n",
    "df_med = df.drop(columns=['USMER', 'MEDICAL_UNIT', 'SEX', 'PATIENT_TYPE', 'DATE_DIED',\n",
    "                          'INTUBED', 'AGE', 'CLASIFFICATION_FINAL', 'ICU'], axis=1)\n",
    "df_med"
   ]
  },
  {
   "cell_type": "code",
   "execution_count": null,
   "metadata": {
    "id": "9ca7711d",
    "outputId": "68f51857-d804-4e02-945b-a2b4e077e1f1"
   },
   "outputs": [],
   "source": [
    "df_med.duplicated(keep = False).sum()"
   ]
  },
  {
   "cell_type": "markdown",
   "metadata": {
    "id": "fcb358a1"
   },
   "source": [
    "### We can see that there are 1,046,683 patients with similar conditions split into some groups of patients with the same conditions"
   ]
  },
  {
   "cell_type": "markdown",
   "metadata": {
    "id": "0418c272"
   },
   "source": [
    "## 1- How many people have died?"
   ]
  },
  {
   "cell_type": "code",
   "execution_count": null,
   "metadata": {
    "id": "530a7b1a",
    "outputId": "f1a4c8e6-5e82-4d15-bdbb-162891d1b21d"
   },
   "outputs": [],
   "source": [
    "dict(df['DEAD'].value_counts())[1]"
   ]
  },
  {
   "cell_type": "code",
   "execution_count": null,
   "metadata": {
    "id": "033e6f99",
    "outputId": "4df3ac09-fcc9-4d9b-ed6d-ad8fc6e2567d"
   },
   "outputs": [],
   "source": [
    "D = df['DEAD']\n",
    "D = D.replace(1, \"Dead\")\n",
    "D = D.replace(2, \"Alive\")\n",
    "fig, ax = plt.subplots()\n",
    "ax.yaxis.set_major_formatter(FormatStrFormatter('%.f'))\n",
    "plt.xticks(fontsize=15)\n",
    "plt.yticks(fontsize=15)\n",
    "plt.title('Deaths Count', color = '#800000', fontsize = 20)\n",
    "sns.countplot(x=D, palette = ['#990000',\"#0a75ad\"])\n",
    "plt.xlabel(\"Dead or Alive\", fontsize=15)\n",
    "plt.ylabel(\"Count\", fontsize=15)"
   ]
  },
  {
   "cell_type": "code",
   "execution_count": null,
   "metadata": {
    "id": "55608910",
    "outputId": "5aa89b32-2524-438d-858b-c90be2fac2e0"
   },
   "outputs": [],
   "source": [
    "labels = [\"Alive\", \"Dead\"]\n",
    "sizes = df['DEAD'].value_counts()\n",
    "colors = ['#0a75ad', '#990000']\n",
    "plt.figure(figsize = (10,10))\n",
    "plt.pie(sizes, labels=labels, autopct='%1.1f%%', textprops={'fontsize':20, 'color':\"black\"}, colors = colors,\n",
    "        explode=[0.05, 0.05])\n",
    "plt.title('Death Percentage',color = '#800000',fontsize = 30)\n",
    "plt.legend(df['DEAD'].value_counts(), loc = 'lower right', title = 'Death Rate')\n",
    "plt.show()"
   ]
  },
  {
   "cell_type": "markdown",
   "metadata": {
    "id": "49baa6c4"
   },
   "source": [
    "### We can see that 76,942 patients have died representing 7.3% of the total number of patients in our dataset."
   ]
  },
  {
   "cell_type": "markdown",
   "metadata": {
    "id": "086fde38"
   },
   "source": [
    "## 2-  And, did they all have the same results?"
   ]
  },
  {
   "cell_type": "code",
   "execution_count": null,
   "metadata": {
    "id": "19a59819",
    "outputId": "cab2ce2d-e6a5-47fa-ca2f-d56683128d6a"
   },
   "outputs": [],
   "source": [
    "df_dead = df[df[\"DEAD\"] == 1]\n",
    "df_dead"
   ]
  },
  {
   "cell_type": "code",
   "execution_count": null,
   "metadata": {
    "id": "aba51512",
    "outputId": "ea6b6849-86fb-48b4-f046-583e4452323d"
   },
   "outputs": [],
   "source": [
    "df_dead[\"CLASIFFICATION_FINAL\"].value_counts()"
   ]
  },
  {
   "cell_type": "markdown",
   "metadata": {
    "id": "09b25e55"
   },
   "source": [
    "### We can see that we have dead patients with all \"Classification\" values starting from 1 till we go to 7, meaning we have dead people who were not diagnosed with Covid 19, and hence we can say that **the dead patients didn't have the same results with a majority of whom were being diagnosed with Covid 19**."
   ]
  },
  {
   "cell_type": "markdown",
   "metadata": {
    "id": "28e3f665"
   },
   "source": [
    "## 3- What is the percentage of Covid carriers among those dead patients?"
   ]
  },
  {
   "cell_type": "code",
   "execution_count": null,
   "metadata": {
    "id": "5a6093d1"
   },
   "outputs": [],
   "source": [
    "def Covid_or_Not(val):\n",
    "    if val >= 4:\n",
    "        return \"Not a Covid 19 Carrier\"\n",
    "    else:\n",
    "        return \"A Covid 19 Carrier\""
   ]
  },
  {
   "cell_type": "code",
   "execution_count": null,
   "metadata": {
    "id": "2b99f092"
   },
   "outputs": [],
   "source": [
    "df_dead['Covid_or_Not'] = df_dead[\"CLASIFFICATION_FINAL\"].apply(Covid_or_Not)"
   ]
  },
  {
   "cell_type": "code",
   "execution_count": null,
   "metadata": {
    "id": "933e5307",
    "outputId": "d327206c-4ecc-441c-c975-ab27888bc25a"
   },
   "outputs": [],
   "source": [
    "df_dead"
   ]
  },
  {
   "cell_type": "code",
   "execution_count": null,
   "metadata": {
    "id": "f17e177d",
    "outputId": "0228efd5-58c1-407f-bb3f-b3479ec54019"
   },
   "outputs": [],
   "source": [
    "labels = [\"Carriers\", \"Non Carriers\"]\n",
    "sizes = df_dead['Covid_or_Not'].value_counts()\n",
    "colors = ['#468499', '#ff7373']\n",
    "plt.figure(figsize = (10,10))\n",
    "plt.pie(sizes, labels=labels, autopct='%1.1f%%', textprops={'fontsize':20}, colors = colors)\n",
    "plt.title('Covid Carriers Percentage among Dead Patients', color = 'Maroon', fontsize = 30)\n",
    "plt.legend(df_dead['Covid_or_Not'].value_counts(), loc = 'lower right', title = 'Covid Carriers')\n",
    "plt.show()"
   ]
  },
  {
   "cell_type": "code",
   "execution_count": null,
   "metadata": {
    "id": "8c9249b2",
    "outputId": "c3074401-5eee-4bfa-abc4-09025084794b"
   },
   "outputs": [],
   "source": [
    "df_dead[\"Covid_or_Not\"].value_counts()"
   ]
  },
  {
   "cell_type": "markdown",
   "metadata": {
    "id": "7272efe6"
   },
   "source": [
    "### We can see that there are 54,236 patients who were carriers of Covid 19 among the dead with a percentage of 70.5%.\n",
    "\n",
    "### That indicates the horrifying effect of the pandemic on the death rates back then!!"
   ]
  },
  {
   "cell_type": "markdown",
   "metadata": {
    "id": "a54a4035"
   },
   "source": [
    "## 4- What about the percentage of Covid carriers among all the patients?"
   ]
  },
  {
   "cell_type": "code",
   "execution_count": null,
   "metadata": {
    "id": "0ee45157"
   },
   "outputs": [],
   "source": [
    "df['Covid_or_Not'] = df[\"CLASIFFICATION_FINAL\"].apply(Covid_or_Not)"
   ]
  },
  {
   "cell_type": "code",
   "execution_count": null,
   "metadata": {
    "id": "8b4948e2",
    "outputId": "d9a52654-f5ac-4082-fd1c-3b460b90c557"
   },
   "outputs": [],
   "source": [
    "labels = [\"Non Carriers\", \"Carriers\"]\n",
    "sizes = df['Covid_or_Not'].value_counts()\n",
    "colors = ['#ff7373', '#468499']\n",
    "plt.figure(figsize = (10,10))\n",
    "plt.pie(sizes, labels=labels, autopct='%1.1f%%', textprops={'fontsize':20}, colors = colors)\n",
    "plt.title('Covid Carriers Percentage among All Patients', color = 'Maroon', fontsize = 30)\n",
    "plt.legend(df['Covid_or_Not'].value_counts(), loc = 'lower right', title = 'Covid Carriers')\n",
    "plt.show()"
   ]
  },
  {
   "cell_type": "code",
   "execution_count": null,
   "metadata": {
    "id": "dbdd15ae",
    "outputId": "709b54a0-abb9-48bf-f98e-5816afa2676a"
   },
   "outputs": [],
   "source": [
    "df[\"Covid_or_Not\"].value_counts()"
   ]
  },
  {
   "cell_type": "markdown",
   "metadata": {
    "id": "29ad7555"
   },
   "source": [
    "### We can see that there are 391,979 patients who were carriers of Covid 19 among all patients with a percentage of 37.4%.\n",
    "\n",
    "### That indicates that the majority of the patients were non carriers of Covid 19."
   ]
  },
  {
   "cell_type": "markdown",
   "metadata": {
    "id": "0ec42612"
   },
   "source": [
    "## 5- What is the percentage of death among those carriers?"
   ]
  },
  {
   "cell_type": "code",
   "execution_count": null,
   "metadata": {
    "id": "9ff9bdc6"
   },
   "outputs": [],
   "source": [
    "Covid_deaths = df[(df['Covid_or_Not'] == \"A Covid 19 Carrier\")]"
   ]
  },
  {
   "cell_type": "code",
   "execution_count": null,
   "metadata": {
    "id": "657d79ea",
    "outputId": "8fd4308a-ca94-418f-f457-cdd1824efc79"
   },
   "outputs": [],
   "source": [
    "Covid_deaths[\"DEAD\"].value_counts()"
   ]
  },
  {
   "cell_type": "code",
   "execution_count": null,
   "metadata": {
    "id": "73a6289d",
    "outputId": "eb753399-b8e9-4e63-c7a9-995182449c49"
   },
   "outputs": [],
   "source": [
    "labels = [\"Alive\", \"Dead\"]\n",
    "sizes = Covid_deaths['DEAD'].value_counts()\n",
    "colors = ['#0a75ad', '#990000']\n",
    "plt.figure(figsize = (10,10))\n",
    "plt.pie(sizes, labels=labels, autopct='%1.1f%%', textprops={'fontsize':20, 'color':\"black\"}, colors = colors,\n",
    "        explode=[0.05, 0.05])\n",
    "plt.title('Death Percentage among Covid Carriers',color = 'red',fontsize = 30)\n",
    "plt.legend(Covid_deaths['DEAD'].value_counts(), loc = 'lower right', title = 'Death Rate')\n",
    "plt.show()"
   ]
  },
  {
   "cell_type": "markdown",
   "metadata": {
    "id": "a4902b73"
   },
   "source": [
    "### Here we can see that the 54,236 patients with Covid 19 who have died, reperesented only 13.8% of all the carriers, which means that 86.2% were treated successfully, and the treatment was going well to a certain degree back then accros the world."
   ]
  },
  {
   "cell_type": "markdown",
   "metadata": {
    "id": "e5aa35c9"
   },
   "source": [
    "## 6- Is it true that age has some impact?"
   ]
  },
  {
   "cell_type": "code",
   "execution_count": null,
   "metadata": {
    "id": "24fc6956",
    "outputId": "1cd1b814-1499-41b4-a4f9-1e045f24b2e1"
   },
   "outputs": [],
   "source": [
    "# Let's first check our age distribution\n",
    "sns.histplot(x=df.AGE, kde = True, color = \"blue\")\n",
    "plt.title('Age Distribution', color = 'blue', fontsize = 20)\n",
    "plt.show()"
   ]
  },
  {
   "cell_type": "markdown",
   "metadata": {
    "id": "b721b5e8"
   },
   "source": [
    "### We notice that the majoriy are of people in their 20s up to late 50s."
   ]
  },
  {
   "cell_type": "code",
   "execution_count": null,
   "metadata": {
    "id": "78ff043f",
    "outputId": "ed7d61f0-4b91-4ba8-bd79-1878a5629efd"
   },
   "outputs": [],
   "source": [
    "plt.figure(figsize=(15,8))\n",
    "sns.lineplot(data=df, x=\"AGE\", y=\"Covid_or_Not\")\n",
    "plt.title('Effect of Age on Covid Classification', color = 'blue', fontsize = 30)\n",
    "plt.show()"
   ]
  },
  {
   "cell_type": "markdown",
   "metadata": {
    "id": "e5f9b11c"
   },
   "source": [
    "### As we can see that as age increases probability of getting diagnosed with Covid increases (with the exception of the suspected missing values we've already discussed of ages between 100 and 120), which proves that **indeed age has an impact**."
   ]
  },
  {
   "cell_type": "markdown",
   "metadata": {
    "id": "cf150373"
   },
   "source": [
    "## 7- Does obesity has an impact?"
   ]
  },
  {
   "cell_type": "code",
   "execution_count": null,
   "metadata": {
    "id": "8ba684f8"
   },
   "outputs": [],
   "source": [
    "df_mod = df.copy()"
   ]
  },
  {
   "cell_type": "code",
   "execution_count": null,
   "metadata": {
    "id": "886acfde"
   },
   "outputs": [],
   "source": [
    "df_mod['OBESITY'] = [\"Obese\" if i==1 else \"Not Obese\" for i in df.OBESITY]"
   ]
  },
  {
   "cell_type": "code",
   "execution_count": null,
   "metadata": {
    "id": "a0e1abcd",
    "outputId": "b348f077-61d9-4a93-df66-71c276dcceeb"
   },
   "outputs": [],
   "source": [
    "plt.figure(figsize=(15,8))\n",
    "sns.countplot(data=df_mod, x=\"OBESITY\", hue=\"Covid_or_Not\", palette = ['#468499', '#ff7373'])\n",
    "plt.title('Effect of Obesity on Covid Classification', color = 'black', fontsize = 30)\n",
    "plt.show()"
   ]
  },
  {
   "cell_type": "markdown",
   "metadata": {
    "id": "4f551337"
   },
   "source": [
    "### We can see that for patients with obesity the ratio is so close although they are considered a minority; but that gives us the indication that **the percentage of patients carrying the disease among them is pretty high**, while for patients who don't suffer from obesity the ratio is about 1:2, meaning that **for every 100 patients who are not suffering from obesity there is a chance for only half of them to carry Covid**."
   ]
  },
  {
   "cell_type": "markdown",
   "metadata": {
    "id": "21e0fe52"
   },
   "source": [
    "### So according to our analysis, **people who are suffering form obesity are more likely to carry Covid**."
   ]
  },
  {
   "cell_type": "markdown",
   "metadata": {
    "id": "412fee97"
   },
   "source": [
    "## 8- Does gender has any impact?"
   ]
  },
  {
   "cell_type": "code",
   "execution_count": null,
   "metadata": {
    "id": "373edf80"
   },
   "outputs": [],
   "source": [
    "df_mod['SEX'] = [\"Female\" if i==1 else \"Male\" for i in df.SEX]"
   ]
  },
  {
   "cell_type": "code",
   "execution_count": null,
   "metadata": {
    "id": "42006481",
    "outputId": "431c0995-1892-485e-8975-3caeffd6db84"
   },
   "outputs": [],
   "source": [
    "plt.figure(figsize=(15,8))\n",
    "sns.countplot(data=df_mod, x=\"SEX\", hue=\"Covid_or_Not\", palette = ['#468499', '#ff7373'])\n",
    "plt.title('Effect of Gender on Covid Classification', color = 'black', fontsize = 30)\n",
    "plt.show()"
   ]
  },
  {
   "cell_type": "markdown",
   "metadata": {
    "id": "398b6f00"
   },
   "source": [
    "### We can see that **gender has no effect or impact**, with males being slightly more likely to carry Covid than females but the difference doesn't really matter."
   ]
  },
  {
   "cell_type": "markdown",
   "metadata": {
    "id": "4069186d"
   },
   "source": [
    "## 9- Does pregnancy has any impact?"
   ]
  },
  {
   "cell_type": "code",
   "execution_count": null,
   "metadata": {
    "id": "afd87b59",
    "outputId": "57c81f38-3981-4208-eb68-7926d77a3e94"
   },
   "outputs": [],
   "source": [
    "df_preg = df[df[\"SEX\"] == 1]\n",
    "df_preg[\"PREGNANT\"].value_counts()"
   ]
  },
  {
   "cell_type": "code",
   "execution_count": null,
   "metadata": {
    "id": "9842a54c"
   },
   "outputs": [],
   "source": [
    "df_preg['PREGNANT'] = [\"Pregnant\" if i==1 else \"Non Pregnant\" for i in df_preg.PREGNANT]"
   ]
  },
  {
   "cell_type": "code",
   "execution_count": null,
   "metadata": {
    "id": "3e51c01e",
    "outputId": "ef65d8c8-0680-4c05-e411-9342d3b20c38"
   },
   "outputs": [],
   "source": [
    "plt.figure(figsize=(15,8))\n",
    "sns.countplot(data=df_preg, x=\"PREGNANT\", hue=\"Covid_or_Not\", palette = ['#468499', '#ff7373'])\n",
    "plt.title('Effect of Pregnancy on Covid Classification', color = 'black', fontsize = 30)\n",
    "plt.show()"
   ]
  },
  {
   "cell_type": "markdown",
   "metadata": {
    "id": "bc08a35c"
   },
   "source": [
    "### We can not determine from the above chart; as the pregnant ratio is not visible, during the low amount of pregnant females across our data.\n",
    "\n",
    "### So, let's try another approach:"
   ]
  },
  {
   "cell_type": "code",
   "execution_count": null,
   "metadata": {
    "id": "cbb2e35b",
    "outputId": "626b43cb-a60f-491a-cff9-744713adb60a"
   },
   "outputs": [],
   "source": [
    "df_preg[(df_preg['PREGNANT'] == 'Pregnant')]['Covid_or_Not'].value_counts()"
   ]
  },
  {
   "cell_type": "code",
   "execution_count": null,
   "metadata": {
    "id": "e169e304",
    "outputId": "5e53a1ee-a2a5-4da3-8cf1-95a935e52701"
   },
   "outputs": [],
   "source": [
    "labels = [\"Not a Covid 19 Carrier\", \"A Covid 19 Carrier\"]\n",
    "sizes = df_preg[(df_preg['PREGNANT'] == 'Pregnant')]['Covid_or_Not'].value_counts()\n",
    "colors = ['#ff7373', '#468499']\n",
    "plt.figure(figsize = (10,10))\n",
    "plt.pie(sizes, labels=labels, autopct='%1.1f%%', textprops={'fontsize':20},\n",
    "        colors = colors,)\n",
    "plt.legend(df_preg[(df_preg['PREGNANT'] == 'Pregnant')]['Covid_or_Not'].value_counts(), loc = 'lower left',\n",
    "           title = 'Covid Carriers')\n",
    "plt.title('Covid Carriers among Pregnant Females', color = 'maroon', fontsize = 25)\n",
    "plt.show()"
   ]
  },
  {
   "cell_type": "code",
   "execution_count": null,
   "metadata": {
    "id": "2f58cec9",
    "outputId": "e9ec9c5c-64b2-4626-966a-5e98c65d934f"
   },
   "outputs": [],
   "source": [
    "df_preg[(df_preg['PREGNANT'] == \"Non Pregnant\")]['Covid_or_Not'].value_counts()"
   ]
  },
  {
   "cell_type": "code",
   "execution_count": null,
   "metadata": {
    "id": "2fdeadb7",
    "outputId": "a52e3707-4d20-4617-bfaf-1ec7466af715"
   },
   "outputs": [],
   "source": [
    "labels = [\"Not a Covid 19 Carrier\", \"A Covid 19 Carrier\"]\n",
    "sizes = df_preg[(df_preg['PREGNANT'] == 'Non Pregnant')]['Covid_or_Not'].value_counts()\n",
    "colors = ['#ff7373', '#468499']\n",
    "plt.figure(figsize = (10,10))\n",
    "plt.pie(sizes, labels=labels, autopct='%1.1f%%', textprops={'fontsize':20},\n",
    "        colors = colors,)\n",
    "plt.legend(df_preg[(df_preg['PREGNANT'] == \"Non Pregnant\")]['Covid_or_Not'].value_counts(), loc = 'lower left',\n",
    "           title = 'Covid Carriers')\n",
    "plt.title('Covid Carriers among Non Pregnant Females', color = 'maroon', fontsize = 25)\n",
    "plt.show()"
   ]
  },
  {
   "cell_type": "markdown",
   "metadata": {
    "id": "e211f568"
   },
   "source": [
    "### From the above two charts, we can see that both percentages are pretty much close.\n",
    "\n",
    "### So based on our analysis here, **we can not see any impact from pregnancy on Covid classification**."
   ]
  },
  {
   "cell_type": "markdown",
   "metadata": {
    "id": "84dbf8c2"
   },
   "source": [
    "## 10- Do other diseases affect the patient classification?"
   ]
  },
  {
   "cell_type": "code",
   "execution_count": null,
   "metadata": {
    "id": "dc6641e5",
    "outputId": "ded751af-7d35-40b6-d9a3-434440c710dc"
   },
   "outputs": [],
   "source": [
    "df_med"
   ]
  },
  {
   "cell_type": "code",
   "execution_count": null,
   "metadata": {
    "id": "3d6bfdff"
   },
   "outputs": [],
   "source": [
    "df_diseases = df_med.drop(columns = [\"PREGNANT\", \"OBESITY\", 'DEAD'])"
   ]
  },
  {
   "cell_type": "code",
   "execution_count": null,
   "metadata": {
    "id": "0446e524",
    "outputId": "db5365b5-4ed8-45f4-8fbe-887dac935262"
   },
   "outputs": [],
   "source": [
    "plt.figure(figsize=(20, 25))\n",
    "index = 1\n",
    "for i in df_diseases.columns:\n",
    "    plt.subplot(5, 2, index)\n",
    "    df_diseases[i] = [\"Yes\" if j==1 else \"No\" for j in df_diseases[i]]\n",
    "    sns.countplot(data=df_diseases, x=i, hue=df[\"Covid_or_Not\"], palette = ['#468499', '#ff7373'])\n",
    "    index += 1\n",
    "plt.show()"
   ]
  },
  {
   "cell_type": "markdown",
   "metadata": {
    "id": "a3010103"
   },
   "source": [
    "### We noticed that the following diseases and habits have the highest impact:\n",
    "#### 1- Pneumonia\n",
    "#### 2- Hypertension\n",
    "#### 3- Diabetes\n",
    "#### 4- Tobacco usage\n",
    "\n",
    "### We also notice that Pneumonia patients are more likely to carry Covid with a higher ratio."
   ]
  },
  {
   "cell_type": "markdown",
   "metadata": {
    "id": "79b139e8"
   },
   "source": [
    "## Let's dig deeper into the 7 classifications:"
   ]
  },
  {
   "cell_type": "code",
   "execution_count": null,
   "metadata": {
    "id": "2e7b6bdd",
    "outputId": "04b0f065-564d-4416-92f2-e55007ee9060"
   },
   "outputs": [],
   "source": [
    "plt.figure(figsize=(20, 25))\n",
    "index = 1\n",
    "for i in df_diseases.columns:\n",
    "    plt.subplot(5, 2, index)\n",
    "    sns.countplot(data=df_diseases, x=i, hue=df['CLASIFFICATION_FINAL'],)\n",
    "\n",
    "    index += 1\n",
    "plt.show()"
   ]
  },
  {
   "cell_type": "markdown",
   "metadata": {
    "id": "eb0fb78c"
   },
   "source": [
    "### We can see that among all the patients of these diseases who also carry Covid, **the 3rd classification is the highest by far**."
   ]
  },
  {
   "cell_type": "markdown",
   "metadata": {
    "id": "cdb58a40"
   },
   "source": [
    "## 11- How many patients were hospitalized?"
   ]
  },
  {
   "cell_type": "code",
   "execution_count": null,
   "metadata": {
    "id": "adeb76b1",
    "outputId": "d434ca50-584e-4e8c-9c52-397ee9a50625",
    "scrolled": true
   },
   "outputs": [],
   "source": [
    "df.columns"
   ]
  },
  {
   "cell_type": "code",
   "execution_count": null,
   "metadata": {
    "id": "13dab2d9",
    "outputId": "ea15cab5-bd92-4f35-b62d-55f3ce39c07d"
   },
   "outputs": [],
   "source": [
    "df['PATIENT_TYPE'].value_counts()"
   ]
  },
  {
   "cell_type": "code",
   "execution_count": null,
   "metadata": {
    "id": "5d322941",
    "outputId": "912bf99a-0b7a-482b-fb24-194a2bb2189a"
   },
   "outputs": [],
   "source": [
    "labels = [\"Not Hospitalized\", \"Hospitalized\"]\n",
    "sizes = df['PATIENT_TYPE'].value_counts()\n",
    "colors = ['#e13433', '#46549d']\n",
    "plt.figure(figsize = (10,10))\n",
    "plt.pie(sizes, labels=labels, autopct='%1.1f%%', textprops={'fontsize':20},\n",
    "        colors = colors,)\n",
    "plt.title('Hospitalized Patients',color = 'black',fontsize = 30)\n",
    "plt.legend(df['PATIENT_TYPE'].value_counts(), loc = 'lower right', title = 'Hospitalized Patients')\n",
    "plt.show()"
   ]
  },
  {
   "cell_type": "markdown",
   "metadata": {
    "id": "8e2192cd"
   },
   "source": [
    "### 200,031 patients were hospitalized with a percentage of 19.1%"
   ]
  },
  {
   "cell_type": "markdown",
   "metadata": {
    "id": "2e7971fa"
   },
   "source": [
    "## 12- How many of them (hospitalized people) have died?"
   ]
  },
  {
   "cell_type": "code",
   "execution_count": null,
   "metadata": {
    "id": "cb24ab02"
   },
   "outputs": [],
   "source": [
    "df_hosp = df[df['PATIENT_TYPE']==2]"
   ]
  },
  {
   "cell_type": "code",
   "execution_count": null,
   "metadata": {
    "id": "8e7fe907"
   },
   "outputs": [],
   "source": [
    "df_hosp['DEAD'] = df_hosp['DEAD'].replace(1, \"Dead\")\n",
    "df_hosp['DEAD'] = df_hosp['DEAD'].replace(0, \"Alive\")"
   ]
  },
  {
   "cell_type": "code",
   "execution_count": null,
   "metadata": {
    "id": "4ebf2742",
    "outputId": "a5e5897a-15e6-4f29-8158-a1050b9bbef8"
   },
   "outputs": [],
   "source": [
    "df_hosp['DEAD'].value_counts()"
   ]
  },
  {
   "cell_type": "code",
   "execution_count": null,
   "metadata": {
    "id": "8457cc88",
    "outputId": "16401238-2ec7-4566-8598-3293598a612e"
   },
   "outputs": [],
   "source": [
    "labels = [\"Alive\", \"Dead\"]\n",
    "sizes = df_hosp['DEAD'].value_counts()\n",
    "colors = ['#0a75ad', '#990000']\n",
    "plt.figure(figsize = (10,10))\n",
    "plt.pie(sizes, labels=labels, autopct='%1.1f%%', textprops={'fontsize':20, 'color':\"black\"}, colors = colors,\n",
    "        explode=[0.1, 0.1])\n",
    "plt.title('Death Rate among Hospitalized People', color = 'red', fontsize = 30)\n",
    "plt.legend(df_hosp['DEAD'].value_counts(), loc = 'lower right', title = 'Death Rate')\n",
    "plt.show()"
   ]
  },
  {
   "cell_type": "markdown",
   "metadata": {
    "id": "5cb3cf84"
   },
   "source": [
    "###  Among 200,031 total hospitalized patients, 70,066 patients have died unfortunately, with a percentage of 35% which is a great margin.\n",
    "\n",
    "### This indicates that the hospitalized people were at high risk and although we lost about 35% of them, we could due to treatment save the rest."
   ]
  },
  {
   "cell_type": "markdown",
   "metadata": {
    "id": "e1e6c29f"
   },
   "source": [
    "### Let's check those 35% for their diseases and compare them to the rest (65%) to see if there were any indications that led to their unfortunate death"
   ]
  },
  {
   "cell_type": "code",
   "execution_count": null,
   "metadata": {
    "id": "85e00494",
    "outputId": "c3070a82-1d41-4aa5-9425-0349f878f082"
   },
   "outputs": [],
   "source": [
    "print(df_diseases.shape)\n",
    "print(df_diseases.columns)"
   ]
  },
  {
   "cell_type": "code",
   "execution_count": null,
   "metadata": {
    "id": "c826c7c4",
    "outputId": "23252466-1506-4db3-b9cf-079e6c91e727"
   },
   "outputs": [],
   "source": [
    "print(df_hosp.shape)\n",
    "print(df_hosp.columns)"
   ]
  },
  {
   "cell_type": "code",
   "execution_count": null,
   "metadata": {
    "id": "bf72a6b4"
   },
   "outputs": [],
   "source": [
    "df_diseases2 = df_hosp.drop(columns = ['USMER', 'MEDICAL_UNIT', 'SEX', 'PATIENT_TYPE', 'DATE_DIED', 'INTUBED',\n",
    "                                      'AGE', \"PREGNANT\", \"OBESITY\",'CLASIFFICATION_FINAL', 'ICU', 'DEAD',\n",
    "                                       'Covid_or_Not'])"
   ]
  },
  {
   "cell_type": "code",
   "execution_count": null,
   "metadata": {
    "id": "c9e3ab05",
    "outputId": "8ec5c2d1-4880-4aed-a318-39e9855d545a"
   },
   "outputs": [],
   "source": [
    "plt.figure(figsize=(20, 25))\n",
    "index = 1\n",
    "for i in df_diseases2.columns:\n",
    "    plt.subplot(5, 2, index)\n",
    "    df_diseases2[i] = [\"Yes\" if j==1 else \"No\" for j in df_diseases2[i]]\n",
    "    sns.countplot(data=df_diseases2, x=i, hue=df_hosp['DEAD'],\n",
    "                  palette = [ '#990000', '#0a75ad'])\n",
    "    index += 1\n",
    "plt.show()"
   ]
  },
  {
   "cell_type": "markdown",
   "metadata": {
    "id": "269f6832"
   },
   "source": [
    "### We can see that most of those 35% didn't have any of those diseases except for those who had the following diseases:\n",
    "#### 1- Pneumonia\n",
    "#### 2- Hypertension\n",
    "#### 3- Diabetes\n",
    "\n",
    "### But we can also notice that the only disease that has a great impact on the death rate among the hospitalized patients is the \"Pneumonia\" disease, which makes perfect sense; as it's a lung diseas in the first place."
   ]
  },
  {
   "cell_type": "markdown",
   "metadata": {
    "id": "95cfd8f9"
   },
   "source": [
    "## 13- How many of the dead patients were hospitalized?"
   ]
  },
  {
   "cell_type": "code",
   "execution_count": null,
   "metadata": {
    "id": "4aec4d23",
    "outputId": "1b0375d0-41f0-4719-c13c-6e6f2c6acbd8"
   },
   "outputs": [],
   "source": [
    "df_dead.PATIENT_TYPE.value_counts()"
   ]
  },
  {
   "cell_type": "code",
   "execution_count": null,
   "metadata": {
    "id": "6b0f59fb",
    "outputId": "c254066f-29c4-40c9-919d-4e0cccf60064"
   },
   "outputs": [],
   "source": [
    "labels = [\"Hospitalized\", \"Not Hospitalized\"]\n",
    "sizes = df_dead.PATIENT_TYPE.value_counts()\n",
    "colors = ['#46549d', '#e13433']\n",
    "plt.figure(figsize = (10,10))\n",
    "plt.pie(sizes, labels=labels, autopct='%1.1f%%', textprops={'fontsize':20}, colors = colors)\n",
    "plt.title('Hospitalized Patients Percentage among the Dead', color = 'Maroon', fontsize = 30)\n",
    "plt.legend(df_dead.PATIENT_TYPE.value_counts(), loc = 'lower right', title = 'Hospitalized Patients')\n",
    "plt.show()"
   ]
  },
  {
   "cell_type": "markdown",
   "metadata": {
    "id": "e3b2c022"
   },
   "source": [
    "### There are 70,066 patients who were hospitalized among the dead, with a great percentage of 91.1%, which makes sense and indicates that only few patients have died after sending them home just after getting classified."
   ]
  },
  {
   "cell_type": "markdown",
   "metadata": {
    "id": "1b613ed1"
   },
   "source": [
    "## 14- How many of those hospitalized patients had been admitted to the ICU?"
   ]
  },
  {
   "cell_type": "code",
   "execution_count": null,
   "metadata": {
    "id": "0222f453",
    "outputId": "02087e26-cd98-47f2-efa1-dbc49e0a98cb"
   },
   "outputs": [],
   "source": [
    "df[(df['PATIENT_TYPE'] == 2) & (df['ICU'] == 1)]"
   ]
  },
  {
   "cell_type": "code",
   "execution_count": null,
   "metadata": {
    "id": "741e56c9",
    "outputId": "a13ac060-6582-40a2-fd8c-173161a8b97f"
   },
   "outputs": [],
   "source": [
    "df.ICU.value_counts()"
   ]
  },
  {
   "cell_type": "code",
   "execution_count": null,
   "metadata": {
    "id": "9c3a64c5",
    "outputId": "82346fd3-d982-451c-b28f-5d0abb6df48d"
   },
   "outputs": [],
   "source": [
    "df[(df['PATIENT_TYPE'] == 2)]['ICU'].value_counts()"
   ]
  },
  {
   "cell_type": "code",
   "execution_count": null,
   "metadata": {
    "id": "43296a4c",
    "outputId": "ceaf9c80-9f5a-4eb5-fdd3-4936fa4294aa"
   },
   "outputs": [],
   "source": [
    "labels = [\"Not admitted\", \"Admitted to ICU\"]\n",
    "sizes = df[(df['PATIENT_TYPE'] == 2)]['ICU'].value_counts()\n",
    "colors = [ '#e13433', '#46549d']\n",
    "plt.figure(figsize = (10,10))\n",
    "plt.pie(sizes, labels=labels, autopct='%1.1f%%', textprops={'fontsize':20},\n",
    "        colors = colors,)\n",
    "plt.title('ICU Admitted Patients',color = 'black',fontsize = 30)\n",
    "plt.legend(df[(df['PATIENT_TYPE'] == 2)]['ICU'].value_counts(), loc = 'lower right',\n",
    "           title = 'ICU Patients')\n",
    "plt.show()"
   ]
  },
  {
   "cell_type": "markdown",
   "metadata": {
    "id": "d7bf723d"
   },
   "source": [
    "### There are 16858 patients who had been admitted to the ICU with a percentage of 8.8% out of the total hospitalized patients"
   ]
  },
  {
   "cell_type": "markdown",
   "metadata": {
    "id": "3109c3b7"
   },
   "source": [
    "## 15- How many of those ICU admitted patients had been classified with Covid?"
   ]
  },
  {
   "cell_type": "code",
   "execution_count": null,
   "metadata": {
    "id": "2cc388b3",
    "outputId": "ccd84a07-9ba9-4a9f-87c6-5f47c75c4893"
   },
   "outputs": [],
   "source": [
    "df[(df['CLASIFFICATION_FINAL'] < 4) & (df['ICU'] == 1)]"
   ]
  },
  {
   "cell_type": "code",
   "execution_count": null,
   "metadata": {
    "id": "370c76d6",
    "outputId": "3b3f3029-6ec6-4a75-ff5f-b0f13f9787f6"
   },
   "outputs": [],
   "source": [
    "16858 - 10449"
   ]
  },
  {
   "cell_type": "markdown",
   "metadata": {
    "id": "5a579d76"
   },
   "source": [
    "### There are 6409 patients with no Covid 19 that had been admitted to an Intensive Care Unit, maybe due to other illnesses or diseases."
   ]
  },
  {
   "cell_type": "code",
   "execution_count": null,
   "metadata": {
    "id": "97a1a05e",
    "outputId": "7c46aaf6-2a8b-4c79-e26a-5ef01ad0b35a"
   },
   "outputs": [],
   "source": [
    "df[(df['ICU'] == 1)]['CLASIFFICATION_FINAL'].value_counts()"
   ]
  },
  {
   "cell_type": "markdown",
   "metadata": {
    "id": "5c21a633"
   },
   "source": [
    "### As expected patients with classification of the 3rd degree are the majority, and we can also notice that patients with covid are much more than non carriers."
   ]
  },
  {
   "cell_type": "code",
   "execution_count": null,
   "metadata": {
    "id": "1cdcb7b7",
    "outputId": "a6d86d61-8d81-4b85-f04d-6eb1dbbebeb3"
   },
   "outputs": [],
   "source": [
    "df[(df['ICU'] == 1)]['Covid_or_Not'].value_counts()"
   ]
  },
  {
   "cell_type": "markdown",
   "metadata": {
    "id": "328f0bc7"
   },
   "source": [
    "### We' ve got 10,449 patients who were carriers of Covid among the ICU."
   ]
  },
  {
   "cell_type": "code",
   "execution_count": null,
   "metadata": {
    "id": "3f7d16d2",
    "outputId": "221b33bf-071a-4d07-9521-0bfc35facd52"
   },
   "outputs": [],
   "source": [
    "labels = [\"A Covid 19 Carrier\", \"Not a Covid 19 Carrier\"]\n",
    "sizes = df[(df['PATIENT_TYPE'] == 2)]['Covid_or_Not'].value_counts()\n",
    "colors = ['#468499', '#ff7373']\n",
    "plt.figure(figsize = (10,10))\n",
    "plt.pie(sizes, labels=labels, autopct='%1.1f%%', textprops={'fontsize':20},\n",
    "        colors = colors,)\n",
    "plt.legend(df[(df['PATIENT_TYPE'] == 2)]['ICU'].value_counts(), loc = 'lower left',\n",
    "           title = 'Covid Carriers')\n",
    "plt.title('Covid Carriers among ICU Patients', color = 'maroon', fontsize = 25)\n",
    "plt.show()"
   ]
  },
  {
   "cell_type": "markdown",
   "metadata": {
    "id": "47ea7c45"
   },
   "source": [
    "### We can see the huge percentage of the Covid carriers (91.2%) among the ICU admitted patients."
   ]
  },
  {
   "cell_type": "markdown",
   "metadata": {
    "id": "e4ac2d60"
   },
   "source": [
    "## 16 - How many of those ICU patients have died?"
   ]
  },
  {
   "cell_type": "code",
   "execution_count": null,
   "metadata": {
    "id": "277e923e",
    "outputId": "9338edfa-b842-4d95-b313-38f3e12d0ca7"
   },
   "outputs": [],
   "source": [
    "df[(df['ICU'] == 1)]['DEAD'].value_counts()"
   ]
  },
  {
   "cell_type": "markdown",
   "metadata": {
    "id": "8a004732"
   },
   "source": [
    "### We' ve got 8,195 dead patients among the ICU."
   ]
  },
  {
   "cell_type": "code",
   "execution_count": null,
   "metadata": {
    "id": "e3ab09bd",
    "outputId": "fa0cf3ed-8551-4b13-ce31-2574bc16cba2"
   },
   "outputs": [],
   "source": [
    "labels = [\"Alive\", \"Dead\"]\n",
    "sizes = df[(df['ICU'] == 1)]['DEAD'].value_counts()\n",
    "colors = [ '#0a75ad', '#990000']\n",
    "plt.figure(figsize = (10,10))\n",
    "plt.pie(sizes, labels=labels, autopct='%1.1f%%', textprops={'fontsize':20, 'color':\"black\"}, colors = colors,\n",
    "        explode=[0.1, 0.1])\n",
    "plt.title('Death Rate among ICU Patients', color = 'red', fontsize = 25)\n",
    "plt.legend(df[(df['ICU'] == 1)]['DEAD'].value_counts(), loc = 'lower right', title = 'Death Rate')\n",
    "plt.show()"
   ]
  },
  {
   "cell_type": "markdown",
   "metadata": {
    "id": "078e69be"
   },
   "source": [
    "### Unfortantely about 48.6% of ICU admitted patients have died which is a great percentage, indicating the great losses we found at the ICU; because ICU patients are always at great risk and degrading medical conditions."
   ]
  },
  {
   "cell_type": "code",
   "execution_count": null,
   "metadata": {
    "id": "0d5e388b",
    "outputId": "8850df05-6a35-4596-be64-e612ad0dbf44"
   },
   "outputs": [],
   "source": [
    "df.columns"
   ]
  },
  {
   "cell_type": "markdown",
   "metadata": {
    "id": "cc575f79"
   },
   "source": [
    "## 17- What is the death trend with respect to time?"
   ]
  },
  {
   "cell_type": "code",
   "execution_count": null,
   "metadata": {
    "id": "abc64815",
    "outputId": "44936fc1-e934-4037-92a7-0ad43f5bb034"
   },
   "outputs": [],
   "source": [
    "plt.figure(figsize=(15,8))\n",
    "sns.histplot(data=df, x=\"DATE_DIED\")\n",
    "plt.title('Death Trend through Time', color = 'red', fontsize = 25)"
   ]
  },
  {
   "cell_type": "markdown",
   "metadata": {
    "id": "d2f75576"
   },
   "source": [
    "### We can see that deaths were occuring with high rate at year 2020 specially at the middle of the year (months from April till August)."
   ]
  },
  {
   "cell_type": "markdown",
   "metadata": {
    "id": "c70c0167"
   },
   "source": [
    "-------------------"
   ]
  },
  {
   "cell_type": "markdown",
   "metadata": {
    "id": "6862cf09"
   },
   "source": [
    "# Modeling and Results"
   ]
  },
  {
   "cell_type": "markdown",
   "metadata": {
    "id": "1e883832"
   },
   "source": [
    "## Feature Selection"
   ]
  },
  {
   "cell_type": "code",
   "execution_count": null,
   "metadata": {
    "id": "c7f23b99"
   },
   "outputs": [],
   "source": [
    "df_model = df.drop(columns=['DATE_DIED','SEX'])"
   ]
  },
  {
   "cell_type": "code",
   "execution_count": null,
   "metadata": {
    "id": "990741a9",
    "outputId": "cb8b6d33-5413-4e3f-de8a-c2da2fb2b244"
   },
   "outputs": [],
   "source": [
    "df_model.dropna().shape"
   ]
  },
  {
   "cell_type": "code",
   "execution_count": null,
   "metadata": {
    "id": "29ee5113",
    "outputId": "a72bf210-0469-4bc1-890a-2d110073e289"
   },
   "outputs": [],
   "source": [
    "df_model.shape"
   ]
  },
  {
   "cell_type": "code",
   "execution_count": null,
   "metadata": {
    "id": "c8753683",
    "outputId": "5ec10159-8c2f-4747-dc3c-c03208c881cd"
   },
   "outputs": [],
   "source": [
    "1048575 - 1019473"
   ]
  },
  {
   "cell_type": "code",
   "execution_count": null,
   "metadata": {
    "id": "83d31f56",
    "outputId": "251b9996-5055-4fab-9abc-b345ed92a05a"
   },
   "outputs": [],
   "source": [
    "29102 / 1048575"
   ]
  },
  {
   "cell_type": "markdown",
   "metadata": {
    "id": "281c8b19"
   },
   "source": [
    "### We can now remove the missing values as they are considered as a great minority in our data with a maximum of about 0.03%."
   ]
  },
  {
   "cell_type": "code",
   "execution_count": null,
   "metadata": {
    "id": "7516c8e1"
   },
   "outputs": [],
   "source": [
    "df_model.dropna(inplace = True)"
   ]
  },
  {
   "cell_type": "code",
   "execution_count": null,
   "metadata": {
    "id": "8b897721",
    "outputId": "c10dd727-aad1-4a25-cb90-21c40a9a3bc9"
   },
   "outputs": [],
   "source": [
    "sns.heatmap(df_model.isnull())\n",
    "plt.title('After Dropping the Remaining Missing Values', color = 'black', fontsize = 15)\n",
    "plt.show()"
   ]
  },
  {
   "cell_type": "code",
   "execution_count": null,
   "metadata": {
    "id": "1eee986a",
    "outputId": "449edcc6-a60c-4f3c-9589-00370f8cab78"
   },
   "outputs": [],
   "source": [
    "df_model.Covid_or_Not.value_counts()"
   ]
  },
  {
   "cell_type": "code",
   "execution_count": null,
   "metadata": {
    "id": "fe03a37d"
   },
   "outputs": [],
   "source": [
    "df_model.Covid_or_Not = df_model.Covid_or_Not.apply(lambda x: 2 if x==\"Not a Covid 19 Carrier\" else 1)"
   ]
  },
  {
   "cell_type": "markdown",
   "metadata": {},
   "source": [
    "### Removing unnecessary features"
   ]
  },
  {
   "cell_type": "code",
   "execution_count": null,
   "metadata": {},
   "outputs": [],
   "source": [
    "fig, ax = plt.subplots(figsize=(20, 15))\n",
    "mask=np.triu(np.ones_like(df.corr()))\n",
    "sns.heatmap(df.corr(), annot = True, cmap = \"Reds\", vmin = -1, vmax = 1, mask = mask)\n",
    "plt.title('Features Selection', color = 'black', fontsize = 30)\n",
    "plt.show()"
   ]
  },
  {
   "cell_type": "code",
   "execution_count": null,
   "metadata": {},
   "outputs": [],
   "source": [
    "unrelevant_features = [\"PREGNANT\",\"COPD\",\"ASTHMA\",\"INMSUPR\",\"OTHER_DISEASE\",\"CARDIOVASCULAR\",\n",
    "                      \"OBESITY\",\"TOBACCO\"]\n",
    "df_model.drop(columns=unrelevant_features,inplace=True)"
   ]
  },
  {
   "cell_type": "markdown",
   "metadata": {
    "id": "705651fc"
   },
   "source": [
    "### Data Splitting:"
   ]
  },
  {
   "cell_type": "code",
   "execution_count": null,
   "metadata": {
    "id": "4aa861a9"
   },
   "outputs": [],
   "source": [
    "X = df_model.drop('DEAD' , axis= 1)\n",
    "Y = df_model['DEAD']"
   ]
  },
  {
   "cell_type": "code",
   "execution_count": null,
   "metadata": {
    "id": "5238614a"
   },
   "outputs": [],
   "source": [
    "x_train, x_test, y_train, y_test = train_test_split(X, Y, test_size=0.30, random_state=42)"
   ]
  },
  {
   "cell_type": "markdown",
   "metadata": {
    "id": "7b32592d"
   },
   "source": [
    "### Checking for Correlated Features:"
   ]
  },
  {
   "cell_type": "code",
   "execution_count": null,
   "metadata": {
    "id": "f2bf760d",
    "outputId": "6e3f9cd5-a425-4442-8ab9-61fcf8e7ced9"
   },
   "outputs": [],
   "source": [
    "x_train.head()"
   ]
  },
  {
   "cell_type": "code",
   "execution_count": null,
   "metadata": {
    "id": "4e19573a",
    "outputId": "4ea03bb4-dece-4807-fb72-6cc0e9ba61a6"
   },
   "outputs": [],
   "source": [
    "fig, ax = plt.subplots(figsize=(20, 15))\n",
    "mask=np.triu(np.ones_like(x_train.corr()))\n",
    "sns.heatmap(x_train.corr(), annot = True, cmap = \"Reds\", vmin = -1, vmax = 1, mask = mask)\n",
    "plt.title('Checking for Correlated Features', color = 'black', fontsize = 30)\n",
    "plt.show()"
   ]
  },
  {
   "cell_type": "code",
   "execution_count": null,
   "metadata": {
    "id": "25c419b8"
   },
   "outputs": [],
   "source": [
    "def correlation(dataset, threshold):\n",
    "    col_corr = set()\n",
    "    corr_matrix = dataset.corr()\n",
    "    for i in range(len(corr_matrix.columns)):\n",
    "        for j in range(i):\n",
    "            if abs(corr_matrix.iloc[i, j]) > threshold:\n",
    "                colname = corr_matrix.columns[i]\n",
    "                col_corr.add(colname)\n",
    "    return col_corr"
   ]
  },
  {
   "cell_type": "code",
   "execution_count": null,
   "metadata": {
    "id": "c470d5e8",
    "outputId": "6bd65a7d-6fc5-416e-a83e-5520ac80f673"
   },
   "outputs": [],
   "source": [
    "print(correlation(x_train, 0.7))"
   ]
  },
  {
   "cell_type": "code",
   "execution_count": null,
   "metadata": {
    "id": "df94bc17"
   },
   "outputs": [],
   "source": [
    "x_train.drop('Covid_or_Not',axis=1, inplace = True)\n",
    "x_test.drop('Covid_or_Not',axis=1, inplace = True)"
   ]
  },
  {
   "cell_type": "markdown",
   "metadata": {
    "id": "d1c413c5"
   },
   "source": [
    "### Checking Data for Balance:"
   ]
  },
  {
   "cell_type": "code",
   "execution_count": null,
   "metadata": {
    "id": "c96e6ac6",
    "outputId": "ebf5bb1c-0f34-478b-bfa2-49ebfd2b7e4f"
   },
   "outputs": [],
   "source": [
    "sns.countplot(x = y_train)\n",
    "plt.title('Before Handling the Imbalance', color = 'black', fontsize = 15)\n",
    "plt.show()"
   ]
  },
  {
   "cell_type": "code",
   "execution_count": null,
   "metadata": {
    "id": "ba2e243e"
   },
   "outputs": [],
   "source": [
    "sm = SMOTE(random_state=42)\n",
    "x_train, y_train = sm.fit_resample(x_train, y_train)"
   ]
  },
  {
   "cell_type": "code",
   "execution_count": null,
   "metadata": {
    "id": "06f06840",
    "outputId": "0757b525-2869-4d53-9aab-10a18ac5e8b1"
   },
   "outputs": [],
   "source": [
    "# Let's check our data again:\n",
    "sns.countplot(x = y_train)\n",
    "plt.title('After Handling the Imbalance', color = 'black', fontsize = 15)\n",
    "plt.show()"
   ]
  },
  {
   "cell_type": "markdown",
   "metadata": {
    "id": "6a601227"
   },
   "source": [
    "## Important Note\n",
    "#### We should always split into test and train sets BEFORE trying any resampling techniques! so that we can apply our techniques only on the train sets (**remember we should never miss with our test sets!!**).\n",
    "\n",
    "\n",
    "#### Oversampling before splitting the data can allow the exact same observations to be present in both the test and train sets! (Data Leakage). This can allow our model to simply memorize specific data points and cause overfitting."
   ]
  },
  {
   "cell_type": "markdown",
   "metadata": {
    "id": "e45e3b89"
   },
   "source": [
    "## Training and Testing"
   ]
  },
  {
   "cell_type": "markdown",
   "metadata": {
    "id": "317cf7c8"
   },
   "source": [
    "### Logistic Regression"
   ]
  },
  {
   "cell_type": "code",
   "execution_count": null,
   "metadata": {
    "id": "3a57cc19",
    "outputId": "5b31f12a-90f5-487e-a8e8-9b0711e664ad"
   },
   "outputs": [],
   "source": [
    "lr = LogisticRegression()\n",
    "lr.fit(x_train,y_train)\n",
    "print(\"Logistic Regression Train Accuracy: \", lr.score(x_train,y_train), \"\\n\")\n",
    "print(\"Logistic Regression Test Accuracy: \", lr.score(x_test,y_test))"
   ]
  },
  {
   "cell_type": "code",
   "execution_count": null,
   "metadata": {
    "id": "QFC-TWMqbkzY",
    "outputId": "53ebaad8-99cf-4e29-a310-8f27a78f0d89"
   },
   "outputs": [],
   "source": [
    "Classes = ['Not Dead', 'Dead']\n",
    "print(\"Logistic Regression Classification Report:\", \"\\n\", classification_report(y_test, lr.predict(x_test), target_names = Classes))"
   ]
  },
  {
   "cell_type": "markdown",
   "metadata": {
    "id": "b9dae0d1"
   },
   "source": [
    "### Decision Tree"
   ]
  },
  {
   "cell_type": "code",
   "execution_count": null,
   "metadata": {
    "id": "a460c1bc",
    "outputId": "182be538-0147-479f-b2dd-55f8cdb89adf"
   },
   "outputs": [],
   "source": [
    "dt=DecisionTreeClassifier(random_state=42)\n",
    "dt.fit(x_train,y_train)\n",
    "print(\"Decision Tree Train Accuracy: \", dt.score(x_train,y_train), \"\\n\")\n",
    "print(\"Decision Tree Test Accuracy: \", dt.score(x_test,y_test))"
   ]
  },
  {
   "cell_type": "code",
   "execution_count": null,
   "metadata": {
    "id": "PFczh7Vvc6T3",
    "outputId": "3e9978a3-8ba0-4b15-f582-f2e7d71d384a"
   },
   "outputs": [],
   "source": [
    "print(\"Decision Tree Classification Report:\", \"\\n\",classification_report(y_test, dt.predict(x_test), target_names = Classes))"
   ]
  },
  {
   "cell_type": "markdown",
   "metadata": {
    "id": "682510bb"
   },
   "source": [
    "### Random Forest"
   ]
  },
  {
   "cell_type": "code",
   "execution_count": null,
   "metadata": {
    "id": "bfb0b08a",
    "outputId": "91b31e34-2be4-4806-b4a3-e82b88bceec3"
   },
   "outputs": [],
   "source": [
    "rf=RandomForestClassifier(n_estimators=4,random_state=42)\n",
    "rf.fit(x_train,y_train)\n",
    "print(\"Random Forest Train Accuracy: \", rf.score(x_train,y_train), \"\\n\")\n",
    "print(\"Random Forest Forest Test Accuracy: \", rf.score(x_test,y_test))"
   ]
  },
  {
   "cell_type": "code",
   "execution_count": null,
   "metadata": {
    "id": "LQl7JPYtdBOZ",
    "outputId": "4eb8358f-c4d3-4149-902f-26a27bef380a"
   },
   "outputs": [],
   "source": [
    "print(\"Random Forest Classification Report:\", \"\\n\",classification_report(y_test, rf.predict(x_test), target_names = Classes))"
   ]
  },
  {
   "cell_type": "markdown",
   "metadata": {
    "id": "5d20389f"
   },
   "source": [
    "### Naive Bayes"
   ]
  },
  {
   "cell_type": "code",
   "execution_count": null,
   "metadata": {
    "id": "ff561f92",
    "outputId": "f7dcf939-8e1d-4bf0-c8c4-fef0b7fd28be"
   },
   "outputs": [],
   "source": [
    "gnb = GaussianNB()\n",
    "gnb.fit(x_train , y_train)\n",
    "print(\"Naive Bayes Train Accuracy: \", gnb.score(x_train,y_train), \"\\n\")\n",
    "print(\"Naive Bayes Test Accuracy: \", gnb.score(x_test,y_test))"
   ]
  },
  {
   "cell_type": "code",
   "execution_count": null,
   "metadata": {
    "id": "SLy16UiFdfbj",
    "outputId": "3e987635-54e2-4d0d-b70f-faa06679f32d"
   },
   "outputs": [],
   "source": [
    "print(\"Naive Bayes Classification Report:\", \"\\n\",classification_report(y_test, gnb.predict(x_test), target_names = Classes))"
   ]
  },
  {
   "cell_type": "markdown",
   "metadata": {
    "id": "a9eb4b55"
   },
   "source": [
    "### XGBoost"
   ]
  },
  {
   "cell_type": "code",
   "execution_count": null,
   "metadata": {
    "id": "b45c2940",
    "outputId": "ebddb4af-d3c5-46bd-ec7e-157883fffdbb"
   },
   "outputs": [],
   "source": [
    "XGB = XGBClassifier()\n",
    "XGB.fit(x_train , y_train)\n",
    "print(\"XGBoost Train Accuracy: \", XGB.score(x_train,y_train), \"\\n\")\n",
    "print(\"XGBoost Test Accuracy: \", XGB.score(x_test,y_test))"
   ]
  },
  {
   "cell_type": "code",
   "execution_count": null,
   "metadata": {
    "id": "Yf05p82VdlVV",
    "outputId": "b215169a-0353-442f-d582-b2de6b6f883d"
   },
   "outputs": [],
   "source": [
    "print(\"XGBoost Classification Report:\", \"\\n\",classification_report(y_test, XGB.predict(x_test), target_names = Classes))"
   ]
  },
  {
   "cell_type": "markdown",
   "metadata": {},
   "source": [
    "#### We' ve tried to train and test both the \"Support Vector Machine\" and the \"K-Nearest Neighbors\" algorithms, but they took like forever to run, and that can be expected due to the huge size of our data."
   ]
  },
  {
   "cell_type": "markdown",
   "metadata": {},
   "source": [
    "# Best Model?"
   ]
  },
  {
   "cell_type": "markdown",
   "metadata": {},
   "source": [
    "#### From the above results we can see that althogh we got the highest accuracy (about 92%) from both **Decision Tree & Random Forrest** algorithms, but **the recall was very bad in the \"Dead\" class**, and since we care the most about our **\"false negatives\" --> (predicting a patient to be having no risks, while he/she is actually at high risk)** which results in type 2 error; **our judgement will be based on the recall** and here's where those algorithms fail with their misleading accuracy."
   ]
  },
  {
   "cell_type": "markdown",
   "metadata": {},
   "source": [
    "### So, from the point of view of both the accuracy and the recall togther, the best model was the **\"Logistic Regression\"** with about **90%** accuracy and lowest recall (\"Not dead\" class), and even a bit higher recall in the \"Dead\" class (about 91%).\n",
    "\n",
    "<br>\n",
    "<br>\n",
    "\n",
    "### Comes next the **\"Naive Bayes\"** with an accuracy of **88%** and with a lowest recall of **88%** (both classes)."
   ]
  },
  {
   "cell_type": "markdown",
   "metadata": {},
   "source": [
    "### We can also notice that we sacrificed both the precision and f1 score which came pretty low in every report.\n",
    "\n",
    "### Probably, we could've achieved better results if we undersampled our train dataset instead of oversampling it (as it will reduce the great noise in our data), but this could have resulted in losing a great portion of our data, and thus losing it's integrity."
   ]
  },
  {
   "cell_type": "markdown",
   "metadata": {
    "id": "3ccf9249"
   },
   "source": [
    "-------------------------"
   ]
  },
  {
   "cell_type": "markdown",
   "metadata": {
    "id": "9a33341f"
   },
   "source": [
    "# Conclusion"
   ]
  },
  {
   "cell_type": "markdown",
   "metadata": {
    "id": "c375d442"
   },
   "source": [
    "* Unfortunately 7.3% of the total patients have died, with about 70.5% of them were Covid Carriers.\n",
    "<br>\n",
    "<br>\n",
    "* As for the total carriers they were about 37.5% out of the total patients.\n",
    "<br>\n",
    "<br>\n",
    "* About 14% of those carriers have died.\n",
    "<br>\n",
    "<br>\n",
    "* We found that age has a significant impact; as it increases chances of getting the virus increases.\n",
    "<br>\n",
    "<br>\n",
    "* We also found that people who are suffering from obesity are more likely to carry the virus.\n",
    "<br>\n",
    "<br>\n",
    "* As for pregnancy, we couldn't find any impact on Covid classification.\n",
    "<br>\n",
    "<br>\n",
    "* We noticed that patients with \"Pneumonia\", \"Hypertension\", \"Diabetes\" and tobacco users have a great chance of getting the virus with \"Pneumonia\" patients being the most.\n",
    "<br>\n",
    "<br>\n",
    "* We also noticed that there's a positive correlation between having \"Hypertension\" and \"Diabetes\" diseases; as most patients with one of those two diseases are subjected to get the other.\n",
    "<br>\n",
    "<br>\n",
    "* We saw that among all the patients of these diseases the patients classified with 3rd degree of Covid are the highest by far.\n",
    "<br>\n",
    "<br>\n",
    "* About 19% of the total patients were hospitalized, with a death percentage of 35%.\n",
    "<br>\n",
    "<br>\n",
    "* The \"Pneumonia\" disease has the greatest impact on that percentage (35%).\n",
    "<br>\n",
    "<br>\n",
    "* About 91% of the dead patients were hospitalized.\n",
    "<br>\n",
    "<br>\n",
    "* About 9% out of the hospitalized patients were admitted to the ICU, with about 56% of them being classified as Covid carriers, and with a great percentage of death of about 49%.\n",
    "<br>\n",
    "<br>\n",
    "* The death was very trending during mid 2020 starting from April up till August.\n",
    "<br>\n",
    "<br>\n",
    "* As for our modeling, we got the highest accuracy of 92% using both \"Random Forest\" and \"Decision Tree\"\n",
    "algorithms, but when checking the recall we found that those accuracies are misleading. So, we settled with the **\"Logistic Regression\"** that achieved great scores regarding both accuracy and recall with about **90%**.\n"
   ]
  }
 ],
 "metadata": {
  "kernelspec": {
   "display_name": "Python 3 (ipykernel)",
   "language": "python",
   "name": "python3"
  },
  "language_info": {
   "codemirror_mode": {
    "name": "ipython",
    "version": 3
   },
   "file_extension": ".py",
   "mimetype": "text/x-python",
   "name": "python",
   "nbconvert_exporter": "python",
   "pygments_lexer": "ipython3",
   "version": "3.9.12"
  }
 },
 "nbformat": 4,
 "nbformat_minor": 4
}
